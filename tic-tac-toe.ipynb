{
 "nbformat": 4,
 "nbformat_minor": 2,
 "metadata": {
  "language_info": {
   "name": "python",
   "codemirror_mode": {
    "name": "ipython",
    "version": 3
   },
   "version": "3.7.4"
  },
  "orig_nbformat": 2,
  "file_extension": ".py",
  "mimetype": "text/x-python",
  "name": "python",
  "npconvert_exporter": "python",
  "pygments_lexer": "ipython3",
  "version": 3
 },
 "cells": [
  {
   "cell_type": "markdown",
   "execution_count": null,
   "metadata": {},
   "outputs": [],
   "source": [
    "# Tic-Tac-Toe (A Python Game)"
   ]
  },
  {
   "cell_type": "code",
   "execution_count": 1,
   "metadata": {},
   "outputs": [],
   "source": [
    "# Import clear_output() for Jupyter Notebook\n",
    "from IPython.display import clear_output\n",
    "\n",
    "# Create the tic-tac-toe board that is 3x3. In the middle are the values\n",
    "def display_board(board):\n",
    "    print(\"   |   |   \")\n",
    "    print(\" {} | {} | {}\".format(board[7],board[8],board[9]))\n",
    "    print(\"   |   |   \")\n",
    "    print(\"-----------\")\n",
    "    print(\"   |   |   \")\n",
    "    print(\" {} | {} | {}\".format(board[4],board[5],board[6]))\n",
    "    print(\"   |   |   \")\n",
    "    print(\"-----------\")\n",
    "    print(\"   |   |   \")\n",
    "    print(\" {} | {} | {}\".format(board[1],board[2],board[3]))\n",
    "    print(\"   |   |   \")"
   ]
  },
  {
   "cell_type": "code",
   "execution_count": 2,
   "metadata": {},
   "outputs": [
    {
     "name": "stdout",
     "output_type": "stream",
     "text": "|   |   \n X | O | X\n   |   |   \n-----------\n   |   |   \n O | X | O\n   |   |   \n-----------\n   |   |   \n X | O | X\n   |   |   \n"
    }
   ],
   "source": [
    "# Display the result of display_board\n",
    "test_board = ['#','X','O','X','O','X','O','X','O','X']\n",
    "display_board(test_board)"
   ]
  },
  {
   "cell_type": "code",
   "execution_count": null,
   "metadata": {},
   "outputs": [],
   "source": []
  }
 ]
}