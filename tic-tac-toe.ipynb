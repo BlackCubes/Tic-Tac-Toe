{
 "nbformat": 4,
 "nbformat_minor": 2,
 "metadata": {
  "language_info": {
   "name": "python",
   "codemirror_mode": {
    "name": "ipython",
    "version": 3
   },
   "version": "3.7.4"
  },
  "orig_nbformat": 2,
  "file_extension": ".py",
  "mimetype": "text/x-python",
  "name": "python",
  "npconvert_exporter": "python",
  "pygments_lexer": "ipython3",
  "version": 3
 },
 "cells": [
  {
   "cell_type": "markdown",
   "execution_count": null,
   "metadata": {},
   "outputs": [],
   "source": [
    "# Tic-Tac-Toe (A Python Game)"
   ]
  },
  {
   "cell_type": "code",
   "execution_count": 1,
   "metadata": {},
   "outputs": [],
   "source": [
    "# Import clear_output() for Jupyter Notebook\n",
    "from IPython.display import clear_output\n",
    "\n",
    "# Create the tic-tac-toe board that is 3x3. In the middle are the values\n",
    "def display_board(board):\n",
    "    print(\"   |   |   \")\n",
    "    print(\" {} | {} | {}\".format(board[7],board[8],board[9]))\n",
    "    print(\"   |   |   \")\n",
    "    print(\"-----------\")\n",
    "    print(\"   |   |   \")\n",
    "    print(\" {} | {} | {}\".format(board[4],board[5],board[6]))\n",
    "    print(\"   |   |   \")\n",
    "    print(\"-----------\")\n",
    "    print(\"   |   |   \")\n",
    "    print(\" {} | {} | {}\".format(board[1],board[2],board[3]))\n",
    "    print(\"   |   |   \")"
   ]
  },
  {
   "cell_type": "code",
   "execution_count": 2,
   "metadata": {},
   "outputs": [
    {
     "name": "stdout",
     "output_type": "stream",
     "text": "|   |   \n X | O | X\n   |   |   \n-----------\n   |   |   \n O | X | O\n   |   |   \n-----------\n   |   |   \n X | O | X\n   |   |   \n"
    }
   ],
   "source": [
    "# Display the result of display_board\n",
    "test_board = ['#','X','O','X','O','X','O','X','O','X']\n",
    "display_board(test_board)"
   ]
  },
  {
   "cell_type": "code",
   "execution_count": 3,
   "metadata": {},
   "outputs": [],
   "source": [
    "# Create a function the takes in the player's input\n",
    "def player_input():\n",
    "    # Boolean Int Value that breaks/continues the while loop\n",
    "    bool_value = 0\n",
    "\n",
    "    # Loop the input until the player correctly answers and return it for later\n",
    "    while bool_value < 1:\n",
    "        player1 = input(\"Player 1, please pick a marker 'X' or 'O' \")\n",
    "        if player1.upper() == 'X' or player1.upper() == 'O':\n",
    "            bool_value = 1\n",
    "            return player1.upper()\n",
    "        else:\n",
    "            bool_value = 0"
   ]
  },
  {
   "cell_type": "code",
   "execution_count": 4,
   "metadata": {},
   "outputs": [],
   "source": [
    "# Change the board list value by its index\n",
    "def place_marker(board, marker, position):\n",
    "    board[position] = marker"
   ]
  },
  {
   "cell_type": "code",
   "execution_count": 5,
   "metadata": {},
   "outputs": [
    {
     "name": "stdout",
     "output_type": "stream",
     "text": "|   |   \n X | E | X\n   |   |   \n-----------\n   |   |   \n O | X | O\n   |   |   \n-----------\n   |   |   \n X | O | X\n   |   |   \n"
    }
   ],
   "source": [
    "# A display of the result of place_marker\n",
    "place_marker(test_board,'E',8)\n",
    "display_board(test_board)"
   ]
  },
  {
   "cell_type": "code",
   "execution_count": 6,
   "metadata": {},
   "outputs": [],
   "source": [
    "# Create a function that checks if the player won based on their marker\n",
    "def win_check(board, mark):\n",
    "    # Create a 3x3 array from the board list without its index 0. It would simulate the actual 2D game and find the winning score\n",
    "    new_board = [board[1:][r*3:(r+1)*3] for r in range(0,3)]\n",
    "\n",
    "    board_height = len(new_board)\n",
    "    board_width = len(new_board[0])\n",
    "\n",
    "    # Find the Horizontal Win without IndexError\n",
    "    for y in range(board_height):\n",
    "        for x in range(board_width):\n",
    "            try:\n",
    "                if new_board[y][x] == mark and new_board[y][x+1] == mark and new_board[y][x+2] == mark:\n",
    "                    return True\n",
    "            except IndexError:\n",
    "                next\n",
    "\n",
    "    # Find the Vertical Win without IndexError\n",
    "    for y in range(board_height):\n",
    "        for x in range(board_width):\n",
    "            try:\n",
    "                if new_board[y][x] == mark and new_board[y+1][x] == mark and new_board[y+2][x] == mark:\n",
    "                    return True\n",
    "            except IndexError:\n",
    "                next\n",
    "\n",
    "    # Find one side of the Diagonal Win starting from the bottom left without IndexError\n",
    "    for y in range(board_height):\n",
    "        for x in range(board_width):\n",
    "            try:\n",
    "                if new_board[y][x] == mark and new_board[y+1][x+1] == mark and new_board[y+2][x+2] == mark:\n",
    "                    return True\n",
    "            except IndexError:\n",
    "                next\n",
    "\n",
    "    # Find other side of the Diagonal Win starting from the top left without IndexError\n",
    "    for y in range(board_height):\n",
    "        for x in range(board_width):\n",
    "            try:\n",
    "                if new_board[y][x+2] == mark and new_board[y+1][x+1] == mark and new_board[y+2][x] == mark:\n",
    "                    return True\n",
    "            except IndexError:\n",
    "                next\n",
    "\n",
    "    return False"
   ]
  },
  {
   "cell_type": "code",
   "execution_count": 8,
   "metadata": {},
   "outputs": [
    {
     "name": "stdout",
     "output_type": "stream",
     "text": "[['X', 'O', 'X'], ['O', 'X', 'O'], ['X', 'E', 'X']]\n\n\n   |   |   \n X | E | X\n   |   |   \n-----------\n   |   |   \n O | X | O\n   |   |   \n-----------\n   |   |   \n X | O | X\n   |   |   \n\n\n"
    },
    {
     "data": {
      "text/plain": "True"
     },
     "execution_count": 8,
     "metadata": {},
     "output_type": "execute_result"
    }
   ],
   "source": [
    "# Display the 3x3 array, the board, and the test result\n",
    "print([test_board[1:][r*3:(r+1)*3] for r in range(0,3)])\n",
    "print(\"\\n\")\n",
    "display_board(test_board)\n",
    "print(\"\\n\")\n",
    "win_check(test_board,'X')"
   ]
  },
  {
   "cell_type": "code",
   "execution_count": 9,
   "metadata": {},
   "outputs": [],
   "source": [
    "# Import random to be used\n",
    "import random\n",
    "\n",
    "# Create a function that randomizes which player goes first\n",
    "def choose_first():\n",
    "    rand_player_int = random.randint(1,2)\n",
    "    rand_player_str = 'Player {} goes first!'.format(rand_player_int)\n",
    "\n",
    "    # Return as a tuple for both to be used later\n",
    "    return rand_player_int, rand_player_str"
   ]
  },
  {
   "cell_type": "code",
   "execution_count": 10,
   "metadata": {},
   "outputs": [],
   "source": [
    "# Create a function that checks if the space on the board is free\n",
    "def space_check(board, position):\n",
    "    return board[position].isspace()"
   ]
  },
  {
   "cell_type": "code",
   "execution_count": 11,
   "metadata": {},
   "outputs": [],
   "source": [
    "# Create a function that checks if there are no spaces on the board\n",
    "def full_board_check(board):\n",
    "    bool_value = True\n",
    "\n",
    "    for full in board:\n",
    "        if full.isspace():\n",
    "            bool_value = False\n",
    "\n",
    "    return bool_value"
   ]
  },
  {
   "cell_type": "code",
   "execution_count": 12,
   "metadata": {},
   "outputs": [],
   "source": [
    "# Create a function asks for the player's next position, and also checks if the space is empty by using space_check function\n",
    "def player_choice(board):\n",
    "    bool_value = 0\n",
    "\n",
    "    while bool_value < 1:\n",
    "        position = int(input('Choose your next position: (1-9) '))\n",
    "        if space_check(board, position):\n",
    "            bool_value = 1\n",
    "            return position\n",
    "        else:\n",
    "            bool_value = 0"
   ]
  },
  {
   "cell_type": "code",
   "execution_count": 13,
   "metadata": {},
   "outputs": [],
   "source": [
    "# Create a function that asks the player if they want to play the game again after finishing\n",
    "def replay():\n",
    "    bool_value = 0\n",
    "\n",
    "    while bool_value < 1:\n",
    "        replay_input = input('Do you want to play again? (Yes/No) ')\n",
    "        if replay_input.lower() == 'yes' or replay_input.lower() == 'y':\n",
    "            bool_value = 1\n",
    "            return True\n",
    "        elif replay_input.lower() == 'no' or replay_input.lower() == 'n':\n",
    "            bool_value = 1\n",
    "            return False\n",
    "        else:\n",
    "            bool_value = 0"
   ]
  },
  {
   "cell_type": "code",
   "execution_count": null,
   "metadata": {},
   "outputs": [],
   "source": [
    "# Put everything together and create the game\n",
    "\n",
    "import time # Import to use time.sleep()\n",
    "\n",
    "while True:\n",
    "\n",
    "    #Set up the game\n",
    "\n",
    "    tic_board = ['#', ' ', ' ', ' ', ' ', ' ', ' ', ' ', ' ', ' ']\n",
    "\n",
    "    game_on = True\n",
    "\n",
    "    player1_marker = player_input()\n",
    "    player2_marker = ''\n",
    "\n",
    "    if player1_marker == 'X':\n",
    "        player2_marker = 'O'\n",
    "    else:\n",
    "        player2_marker = 'X'\n",
    "\n",
    "    print(\"Player 1 picked '{}', and Player 2 gets '{}'\".format(player1_marker, player2_marker))\n",
    "\n",
    "    time.sleep(2.5)\n",
    "    print(\"Let's see who goes first...\")\n",
    "    time.sleep(2)\n",
    "\n",
    "    # Remember to get the tuple results to be used from choose_first function:\n",
    "    rand_player_int, rand_player_str = choose_first()\n",
    "\n",
    "    print(rand_player_str)\n",
    "\n",
    "    time.sleep(2)\n",
    "    print('Here comes the board! Have fun :)')\n",
    "    time.sleep(1.4)\n",
    "\n",
    "    display_board(tic_board)\n",
    "\n",
    "    while game_on:\n",
    "\n",
    "        # Player 1's turn\n",
    "        if rand_player_int == 1:\n",
    "\n",
    "            clear_output()\n",
    "\n",
    "            print(\"\\nPLAYER 1\\n\")\n",
    "\n",
    "            display_board(tic_board)\n",
    "\n",
    "            print(\"\\n\")\n",
    "\n",
    "            player1_position = player_choice(tic_board)\n",
    "\n",
    "            place_marker(tic_board, player1_marker, player1_position)\n",
    "\n",
    "            # Check if winner, the board is full, or continue the game to the next player\n",
    "            if win_check(tic_board, player1_marker):\n",
    "                clear_output()\n",
    "                display_board(tic_board)\n",
    "                print(\"\\nPlayer 1 wins!\")\n",
    "                game_on = False\n",
    "                continue\n",
    "            elif full_board_check(tic_board):\n",
    "                clear_output()\n",
    "                display_board(tic_board)\n",
    "                print(\"\\nLooks like we have a tie :( WAH! WAH!\")\n",
    "                game_on = False\n",
    "                continue\n",
    "            else:\n",
    "                rand_player_int = 2\n",
    "                continue\n",
    "\n",
    "        # Player 2's turn\n",
    "        elif rand_player_int == 2:\n",
    "\n",
    "            clear_output()\n",
    "\n",
    "            print(\"\\n\\n\")\n",
    "\n",
    "            display_board(tic_board)\n",
    "\n",
    "            print(\"\\nPLAYER 2\")\n",
    "\n",
    "            player2_position = player_choice(tic_board)\n",
    "\n",
    "            place_marker(tic_board, player2_marker, player2_position)\n",
    "\n",
    "            if win_check(tic_board, player2_marker):\n",
    "                clear_output()\n",
    "                display_board(tic_board)\n",
    "                print(\"\\nPlayer 2 wins!\")\n",
    "                game_on = False\n",
    "                continue\n",
    "            elif full_board_check(tic_board):\n",
    "                clear_output()\n",
    "                display_board(tic_board)\n",
    "                print(\"\\nLooks like we have a tie :( WAH! WAH!\")\n",
    "                game_on = False\n",
    "                continue\n",
    "            else:\n",
    "                rand_player_int = 1\n",
    "                continue\n",
    "\n",
    "    # Check if the players want to replay the game\n",
    "    else:\n",
    "        if not replay():\n",
    "            False\n",
    "            break\n",
    "        else:\n",
    "            True\n",
    "            continue"
   ]
  }
 ]
}